{
 "metadata": {
  "name": "time handler"
 }, 
 "nbformat": 2, 
 "worksheets": [
  {
   "cells": [
    {
     "cell_type": "code", 
     "collapsed": false, 
     "input": [
      "import signal", 
      "import time", 
      "", 
      "def handler(signum,frame):", 
      "       print \"Forever is over!\"", 
      "       raise Exception(\"end of time\")", 
      "#handler()    ", 
      "", 
      "signal.signal(signal.SIGALRM, handler)", 
      "", 
      "def loop():", 
      "    while 1:", 
      "        print 'sec'", 
      "        time.sleep(1)", 
      "", 
      "signal.alarm(10)", 
      "", 
      "try:", 
      "    loop()", 
      "except Exception, exc:", 
      "    print exc", 
      "    ", 
      "signal.alarm(0)    ", 
      "    ", 
      "        "
     ], 
     "language": "python", 
     "outputs": [
      {
       "output_type": "stream", 
       "stream": "stdout", 
       "text": [
        "sec", 
        "sec"
       ]
      }, 
      {
       "output_type": "stream", 
       "stream": "stdout", 
       "text": [
        "", 
        "sec"
       ]
      }, 
      {
       "output_type": "stream", 
       "stream": "stdout", 
       "text": [
        "", 
        "sec"
       ]
      }, 
      {
       "output_type": "stream", 
       "stream": "stdout", 
       "text": [
        "", 
        "sec"
       ]
      }, 
      {
       "output_type": "stream", 
       "stream": "stdout", 
       "text": [
        "", 
        "sec"
       ]
      }, 
      {
       "output_type": "stream", 
       "stream": "stdout", 
       "text": [
        "", 
        "sec"
       ]
      }, 
      {
       "output_type": "stream", 
       "stream": "stdout", 
       "text": [
        "", 
        "sec"
       ]
      }, 
      {
       "output_type": "stream", 
       "stream": "stdout", 
       "text": [
        "", 
        "sec"
       ]
      }, 
      {
       "output_type": "stream", 
       "stream": "stdout", 
       "text": [
        "", 
        "sec"
       ]
      }, 
      {
       "output_type": "stream", 
       "stream": "stdout", 
       "text": [
        "", 
        "Forever is over!"
       ]
      }, 
      {
       "output_type": "stream", 
       "stream": "stdout", 
       "text": [
        "", 
        "end of time"
       ]
      }, 
      {
       "output_type": "pyout", 
       "prompt_number": 8, 
       "text": [
        "0"
       ]
      }
     ], 
     "prompt_number": 8
    }
   ]
  }
 ]
}